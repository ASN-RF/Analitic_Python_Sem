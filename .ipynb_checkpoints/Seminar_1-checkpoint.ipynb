{
 "cells": [
  {
   "cell_type": "markdown",
   "id": "60fd72aa",
   "metadata": {},
   "source": [
    "# Семинары. Основы языка Python для аналитиков\n",
    "## Семинар 1. Оформление ноутбука и закрепление функций и генераторов\n",
    "**Задача 1.1** *Соедините два словаря в один.*\n",
    "```\n",
    "dict1 = {'One': 1, 'Two': 2, 'Three': 3}\n",
    "dict2 = {'Four': 4, 'Five': 5, 'Six': 6}\n",
    "```"
   ]
  },
  {
   "cell_type": "code",
   "execution_count": 38,
   "id": "a0c7d547",
   "metadata": {},
   "outputs": [
    {
     "data": {
      "text/plain": [
       "{'One': 1, 'Two': 2, 'Three': 3, 'Four': 4, 'Five': 5, 'Six': 6}"
      ]
     },
     "execution_count": 38,
     "metadata": {},
     "output_type": "execute_result"
    }
   ],
   "source": [
    "# РЕШЕНИЕ. 1 вариант\n",
    "dict1 = {'One': 1, 'Two': 2, 'Three': 3}\n",
    "dict2 = {'Four': 4, 'Five': 5, 'Six': 6}\n",
    "dict3 = dict1 | dict2\n",
    "dict3"
   ]
  },
  {
   "cell_type": "code",
   "execution_count": 39,
   "id": "59b29a63",
   "metadata": {},
   "outputs": [
    {
     "data": {
      "text/plain": [
       "{'One': 1, 'Two': 2, 'Three': 3, 'Four': 4, 'Five': 5, 'Six': 6}"
      ]
     },
     "execution_count": 39,
     "metadata": {},
     "output_type": "execute_result"
    }
   ],
   "source": [
    "# РЕШЕНИЕ. 2 вариант\n",
    "dict1.update(dict2)\n",
    "dict1"
   ]
  },
  {
   "cell_type": "markdown",
   "id": "3708c85a",
   "metadata": {},
   "source": [
    "**Задача 1.2** *Напишите функцию, которая на вход принимает два словаря и возвращает один объединенный словарь. !Используйте аннотирование типов!*"
   ]
  },
  {
   "cell_type": "code",
   "execution_count": 40,
   "id": "0025334a",
   "metadata": {},
   "outputs": [
    {
     "data": {
      "text/plain": [
       "{'One': 1, 'Two': 2, 'Three': 3, 'Four': 4, 'Five': 5, 'Six': 6}"
      ]
     },
     "execution_count": 40,
     "metadata": {},
     "output_type": "execute_result"
    }
   ],
   "source": [
    "# РЕШЕНИЕ. 1 вариант\n",
    "def dict_new (a: dict, b: dict) -> dict:\n",
    "    return a | b  \n",
    "dict_new (dict1, dict2)"
   ]
  },
  {
   "cell_type": "code",
   "execution_count": 42,
   "id": "10f3be41",
   "metadata": {},
   "outputs": [
    {
     "data": {
      "text/plain": [
       "{'One': 1, 'Two': 2, 'Three': 3, 'Four': 4, 'Five': 5, 'Six': 6}"
      ]
     },
     "execution_count": 42,
     "metadata": {},
     "output_type": "execute_result"
    }
   ],
   "source": [
    "# РЕШЕНИЕ. 2 вариант\n",
    "def dict_new (a: dict, b: dict) -> dict:\n",
    "    a.update(b)\n",
    "    return a\n",
    "dict_new (dict1, dict2)"
   ]
  },
  {
   "cell_type": "markdown",
   "id": "86409210",
   "metadata": {},
   "source": [
    "**Задача 2** *Напишите функцию, которая из двух списков, делает один словарь, где элементы из первого списка - ключи, а элементы из торого списка - значения*\n",
    "\n",
    "```\n",
    "keys = ['One', 'Two', 'Three']\n",
    "values = [1, 2, 3]\n",
    "```\n",
    "*!Используйте анотирование типов!*\n",
    "\n",
    "*2.1. Используя цикл for.*\n",
    "\n",
    "*2.2. Используя dict comprehensions .*"
   ]
  },
  {
   "cell_type": "code",
   "execution_count": 43,
   "id": "e7a515bc",
   "metadata": {},
   "outputs": [
    {
     "data": {
      "text/plain": [
       "{'One': 1, 'Two': 2, 'Three': 3}"
      ]
     },
     "execution_count": 43,
     "metadata": {},
     "output_type": "execute_result"
    }
   ],
   "source": [
    "# РЕШЕНИЕ. 2.1. Используя цикл for. 1 вариант\n",
    "keys = ['One', 'Two', 'Three']\n",
    "values = [1, 2, 3]\n",
    "def dict_new_1 (a, b) -> dict:\n",
    "    dict_rezult = {}\n",
    "    for i in range (len(a)):\n",
    "        dict_rezult [a[i]] = b[i] \n",
    "    return dict_rezult\n",
    "dict_new_1 (keys, values)"
   ]
  },
  {
   "cell_type": "code",
   "execution_count": 45,
   "id": "75980682",
   "metadata": {},
   "outputs": [
    {
     "data": {
      "text/plain": [
       "{'One': 1, 'Two': 2, 'Three': 3}"
      ]
     },
     "execution_count": 45,
     "metadata": {},
     "output_type": "execute_result"
    }
   ],
   "source": [
    "# РЕШЕНИЕ. 2.1. Используя цикл for. 2 вариант\n",
    "def egt_dict (keys: list, values: list) -> dict:\n",
    "    dict_rezult_2 = {}\n",
    "    for i in range (len(keys)):\n",
    "        dict_rezult_2.update({keys[i]: values[i]})\n",
    "    return dict_rezult_2\n",
    "dict_new_1 (keys, values)"
   ]
  },
  {
   "cell_type": "code",
   "execution_count": 46,
   "id": "9136775a",
   "metadata": {},
   "outputs": [
    {
     "data": {
      "text/plain": [
       "{'One': 1, 'Two': 2, 'Three': 3}"
      ]
     },
     "execution_count": 46,
     "metadata": {},
     "output_type": "execute_result"
    }
   ],
   "source": [
    "# РЕШЕНИЕ. 2.2. Используя dict comprehensions. 1 вариант\n",
    "def dict_new_2 (a, b) -> dict:\n",
    "    dict_rezult = {a[i]: b[i] for i in range (len(a))}\n",
    "    return dict_rezult\n",
    "dict_new_2 (keys, values)"
   ]
  },
  {
   "cell_type": "code",
   "execution_count": 48,
   "id": "8d3d6bc2",
   "metadata": {},
   "outputs": [
    {
     "data": {
      "text/plain": [
       "{'One': 1, 'Two': 2, 'Three': 3}"
      ]
     },
     "execution_count": 48,
     "metadata": {},
     "output_type": "execute_result"
    }
   ],
   "source": [
    "# РЕШЕНИЕ. 2.2. Используя dict comprehensions. 1 вариант\n",
    "def dict_new_2 (keys: list, values: list) -> dict:\n",
    "    return {keys[i]: values[i] for i in range (len(keys))}\n",
    "dict_new_2 (keys, values)"
   ]
  },
  {
   "cell_type": "markdown",
   "id": "65f111b0",
   "metadata": {},
   "source": [
    "**Задача 3** *Извлеките только два ключа name и age из представленного словаря.*\n",
    "\n",
    "```\n",
    "clien_dict = {\n",
    "    \"name\": \"John\",\n",
    "    \"age\": \"25\",\n",
    "    \"salary\": 5000,\n",
    "    \"city\": \"Moscow\"\n",
    "}\n",
    "```\n",
    "\n",
    "*3.1. Напишите функцию с циклом for.*\n",
    "Функция на вход принимает:\n",
    "* исходный словарь\n",
    "* ключи, которые нужно извлечь (аргумент по умолчанию)\n",
    "\n",
    "На выходе словарь с нужными ключами\n",
    "*!Используйте аннотирование типов!*\n",
    "\n",
    "*3.2. Используя dict comprehensions.*"
   ]
  },
  {
   "cell_type": "code",
   "execution_count": 66,
   "id": "72d74235",
   "metadata": {},
   "outputs": [
    {
     "data": {
      "text/plain": [
       "{'name': 'John', 'age': '25'}"
      ]
     },
     "execution_count": 66,
     "metadata": {},
     "output_type": "execute_result"
    }
   ],
   "source": [
    "# РЕШЕНИЕ. 3.1. Напишите функцию с циклом for. \n",
    "\n",
    "clien_dict = {\n",
    "    \"name\": \"John\",\n",
    "    \"age\": \"25\",\n",
    "    \"salary\": 5000,\n",
    "    \"city\": \"Moscow\"\n",
    "}\n",
    "\n",
    "def get_keys_from_dict (base_dict: dict, keys: list = ['name','age']) -> dict:\n",
    "    dict_rez = {}\n",
    "    for k in keys:\n",
    "        dict_rez.update({k: base_dict[k]})\n",
    "    return dict_rez\n",
    "    \n",
    "get_keys_from_dict(clien_dict)"
   ]
  },
  {
   "cell_type": "code",
   "execution_count": 67,
   "id": "51f50e46",
   "metadata": {},
   "outputs": [
    {
     "data": {
      "text/plain": [
       "{'name': 'John', 'age': '25'}"
      ]
     },
     "execution_count": 67,
     "metadata": {},
     "output_type": "execute_result"
    }
   ],
   "source": [
    "# РЕШЕНИЕ. 3.2. Используя dict comprehensions. 1 вариант\n",
    "def get_keys_from_dict (base_dict: dict, keys: list = ['name','age']) -> dict:\n",
    "    dict_rez = {k: base_dict[k] for k in keys}\n",
    "    return dict_rez\n",
    "get_keys_from_dict(clien_dict)"
   ]
  },
  {
   "cell_type": "code",
   "execution_count": 73,
   "id": "281eb6de",
   "metadata": {},
   "outputs": [
    {
     "data": {
      "text/plain": [
       "{'name': 'John', 'age': '25'}"
      ]
     },
     "execution_count": 73,
     "metadata": {},
     "output_type": "execute_result"
    }
   ],
   "source": [
    "# РЕШЕНИЕ. 3.2. Используя dict comprehensions. 2 вариант\n",
    "keys = ['name', 'age']\n",
    "new_dict = {k: clien_dict[k] for k in keys}\n",
    "new_dict"
   ]
  },
  {
   "cell_type": "markdown",
   "id": "98b3be30",
   "metadata": {},
   "source": [
    "**Задача 4.** <br>\n",
    "*4.1 Сгенерируйте случайные целые числа от 0 до 100 в количестве 5 штук с помощью модуля random*<br>\n",
    "● Зафиксируйте псевдогенерацию, чтобы сгенерированные значения всегда были одинаковые<br>\n",
    "● Используйте list comprehensions"
   ]
  },
  {
   "cell_type": "code",
   "execution_count": 80,
   "id": "2f189817",
   "metadata": {},
   "outputs": [
    {
     "data": {
      "text/plain": [
       "[41, 19, 50, 83, 6]"
      ]
     },
     "execution_count": 80,
     "metadata": {},
     "output_type": "execute_result"
    }
   ],
   "source": [
    "import random\n",
    "# 1 вариант. Цикл for\n",
    "random.seed(7)\n",
    "list_random = []\n",
    "for i in range (5):\n",
    "    list_random.append (random.randint(0, 100))\n",
    "list_random"
   ]
  },
  {
   "cell_type": "markdown",
   "id": "6887c4bc",
   "metadata": {},
   "source": [
    "*4.2 Напишите генератор*\n",
    "\n",
    "Генератор на вход принимает список с данными о клиенте (данные из пункта 4.1)\n",
    "Внутри генератора реализуйте обход по списку с данными На каждой итерации генератор будет возвращать кортеж из двух элементов:\n",
    "1. данные по клиенту (в зависимости от итерации, на 0 итерации вернется 0 элемент, на 1 итерации вернется 1 элемент и тд)\n",
    "2. целочисленное значение, которое показывает, сколько секунд прошло с предыдущей итерации\n",
    "Примечание: секунды, которые возвращаются должны показывать время не с начала запуска генератора, а именно то время, которое прошло с\n",
    "предыдущей итерации. А значит время на первой итерации должно равняться 0. Используйте функцию time из модуля time для подсчета времени.\n",
    "Чтобы проверить работу таймера, , запустите проход по генератору в цикле с time.sleep(2)"
   ]
  },
  {
   "cell_type": "code",
   "execution_count": 81,
   "id": "4d1265b6",
   "metadata": {},
   "outputs": [],
   "source": [
    "import time\n",
    "\n",
    "def elapced_since(data):\n",
    "    last_time = None\n",
    "    \n",
    "    for i in data:\n",
    "        currnet_time = time.time()\n",
    "        \n",
    "        if last_time:\n",
    "            delta = currnet_time - last_time\n",
    "        else:\n",
    "            delta = currnet_time - currnet_time\n",
    "        \n",
    "        last_time = time.time()\n",
    "        yield (int(delta), i)"
   ]
  },
  {
   "cell_type": "code",
   "execution_count": 83,
   "id": "77e0b1b5",
   "metadata": {},
   "outputs": [
    {
     "name": "stdout",
     "output_type": "stream",
     "text": [
      "(0, 41)\n",
      "(2, 19)\n",
      "(2, 50)\n",
      "(2, 83)\n",
      "(2, 6)\n"
     ]
    }
   ],
   "source": [
    "for i in elapced_since(list_random):\n",
    "    print(i)\n",
    "    time.sleep(2)"
   ]
  },
  {
   "cell_type": "markdown",
   "id": "1db49b73",
   "metadata": {},
   "source": [
    "**Задача 5.** <bk>\n",
    "*5.1 Найдите картинку в интернете и прикрепите её в ячейку с текстом.*<bk>"
   ]
  },
  {
   "cell_type": "markdown",
   "id": "5dafb75d",
   "metadata": {},
   "source": [
    "<img src = 'https://infogost.com/wp-content/uploads/2020/07/rabota1.jpg'>"
   ]
  },
  {
   "cell_type": "markdown",
   "id": "23d1640b",
   "metadata": {},
   "source": [
    "*5.2 Создайте следующую таблицу в ячейке с текстом.*"
   ]
  },
  {
   "cell_type": "markdown",
   "id": "ab4aabce",
   "metadata": {},
   "source": [
    "<table>\n",
    "    <tr>\n",
    "        <td> </td>\n",
    "        <td>ДО СОБЫТИЯ</td>\n",
    "        <td>ВО ВРЕМЯ СОБЫТИЯ</td>\n",
    "    </tr>\n",
    "    <tr>\n",
    "        <td>1 контрольная точка</td>\n",
    "        <td>200</td>\n",
    "        <td>500</td>\n",
    "    </tr>\n",
    "     <tr>\n",
    "        <td>2 контрольная точка</td>\n",
    "        <td>350</td>\n",
    "        <td>700</td>\n",
    "    </tr>\n",
    "    <tr>\n",
    "        <td>3 контрольная точка</td>\n",
    "        <td>400</td>\n",
    "        <td>800</td>\n",
    "    </tr>\n",
    "     <tr>\n",
    "        <td>Итого за победу</td>\n",
    "        <td>1000</td>\n",
    "        <td>2000</td>\n",
    "    </tr>\n",
    "</table>"
   ]
  },
  {
   "cell_type": "markdown",
   "id": "5c1b6b4a",
   "metadata": {},
   "source": [
    "**Задача 6.** <bk>\n",
    "*5.1. Напишите функцию, которая может принимать любое количество трат пользователя и считать сумму и среднее.*<bk>\n",
    "* На вход поступают целочисленные значения в любом количестве<bk>\n",
    "* На выходе словарь с ключами суммы трат и средней траты"
   ]
  },
  {
   "cell_type": "code",
   "execution_count": 86,
   "id": "d2d703e2",
   "metadata": {},
   "outputs": [
    {
     "data": {
      "text/plain": [
       "{'sum': 37, 'avg': 5.285714285714286}"
      ]
     },
     "execution_count": 86,
     "metadata": {},
     "output_type": "execute_result"
    }
   ],
   "source": [
    "def sum_sr (*args):\n",
    "    return {\n",
    "        'sum': sum(args),\n",
    "        'avg': sum(args) / len(args)\n",
    "    }\n",
    "                   \n",
    "sum_sr(1, 2, 2, 6, 7, 9, 10)    "
   ]
  },
  {
   "cell_type": "code",
   "execution_count": null,
   "id": "9b84e922",
   "metadata": {},
   "outputs": [],
   "source": []
  }
 ],
 "metadata": {
  "kernelspec": {
   "display_name": "Python 3 (ipykernel)",
   "language": "python",
   "name": "python3"
  },
  "language_info": {
   "codemirror_mode": {
    "name": "ipython",
    "version": 3
   },
   "file_extension": ".py",
   "mimetype": "text/x-python",
   "name": "python",
   "nbconvert_exporter": "python",
   "pygments_lexer": "ipython3",
   "version": "3.11.3"
  }
 },
 "nbformat": 4,
 "nbformat_minor": 5
}
